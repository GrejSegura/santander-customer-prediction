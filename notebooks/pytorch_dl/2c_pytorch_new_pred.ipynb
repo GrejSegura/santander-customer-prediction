{
 "cells": [
  {
   "cell_type": "code",
   "execution_count": 11,
   "metadata": {},
   "outputs": [],
   "source": [
    "from torch import nn, optim\n",
    "from torch.autograd import Variable\n",
    "import torch\n",
    "import torch.nn.functional as F\n",
    "import torch.utils.data\n",
    "import torch.optim as optim\n",
    "\n",
    "import numpy as np\n",
    "import pandas as pd\n",
    "from sklearn.model_selection import train_test_split\n",
    "from sklearn import metrics\n",
    "from sklearn import preprocessing\n",
    "import gc\n",
    "import os\n",
    "\n",
    "## clear GPU memory to optimize capacity\n",
    "torch.cuda.empty_cache()\n",
    "\n",
    "os.chdir(r'C:\\Users\\User\\Documents\\Data_Science_Projects\\santander-customer-prediction')\n"
   ]
  },
  {
   "cell_type": "code",
   "execution_count": 16,
   "metadata": {},
   "outputs": [],
   "source": [
    "class Classifier(nn.Module):\n",
    "    def __init__(self):\n",
    "        super().__init__()\n",
    "        \n",
    "        self.fc1 = nn.Linear(810, 533)\n",
    "        self.relu1 = nn.ReLU()\n",
    "        self.dout = nn.Dropout(0.2)\n",
    "                \n",
    "        self.fc2 = nn.Linear(533, 355)\n",
    "        self.prelu = nn.PReLU(1)\n",
    "        self.dout = nn.Dropout(0.2)\n",
    "        \n",
    "        self.fc3 = nn.Linear(355, 236)\n",
    "        self.prelu = nn.PReLU(1)\n",
    "        self.dout = nn.Dropout(0.2)\n",
    "        \n",
    "        self.fc4 = nn.Linear(236, 157)\n",
    "        self.prelu = nn.PReLU(1)\n",
    "        self.dout = nn.Dropout(0.2)                             \n",
    "        \n",
    "        self.fc5 = nn.Linear(157, 100)\n",
    "        self.prelu = nn.PReLU(1)\n",
    "        self.dout = nn.Dropout(0.2)\n",
    "        \n",
    "        self.fc6 = nn.Linear(100, 70)\n",
    "        self.prelu = nn.PReLU(1)\n",
    "        self.dout = nn.Dropout(0.2)\n",
    "                             \n",
    "        self.fc7 = nn.Linear(70, 45)\n",
    "        self.prelu = nn.PReLU(1)\n",
    "        self.dout = nn.Dropout(0.2)\n",
    "                             \n",
    "        self.fc8 = nn.Linear(45, 30)\n",
    "        self.prelu = nn.PReLU(1)\n",
    "        self.dout = nn.Dropout(0.2)\n",
    "\n",
    "        self.fc9 = nn.Linear(30, 10)\n",
    "        self.prelu = nn.PReLU(1)\n",
    "                             \n",
    "        self.out = nn.Linear(10, 1)\n",
    "        self.out_act = nn.Sigmoid()\n",
    "        \n",
    "    def forward(self, input_):\n",
    "        a1 = self.fc1(input_)\n",
    "        h1 = self.relu1(a1)\n",
    "        dout = self.dout(h1)\n",
    "        \n",
    "        a2 = self.fc2(dout)\n",
    "        h2 = self.prelu(a2)\n",
    "        dout = self.dout(h2)\n",
    "        \n",
    "        a3 = self.fc3(dout)\n",
    "        h3 = self.prelu(a3)\n",
    "        dout = self.dout(h3)\n",
    "        \n",
    "        a4 = self.fc4(dout)\n",
    "        h4 = self.prelu(a4)\n",
    "        dout = self.dout(h4)\n",
    "        \n",
    "        a5 = self.fc5(dout)\n",
    "        h5 = self.prelu(a5)\n",
    "        dout = self.dout(h5)\n",
    "        \n",
    "        a6 = self.fc6(dout)\n",
    "        h6 = self.prelu(a6)\n",
    "        dout = self.dout(h6)\n",
    "\n",
    "        a7 = self.fc7(dout)\n",
    "        h7 = self.prelu(a7)\n",
    "        dout = self.dout(h7)\n",
    "                             \n",
    "        a8 = self.fc8(dout)\n",
    "        h8 = self.prelu(a8)\n",
    "        dout = self.dout(h8)\n",
    "                             \n",
    "        a9 = self.fc9(dout)\n",
    "        h8 = self.prelu(a9)\n",
    "                             \n",
    "        a10 = self.out(h8)\n",
    "        \n",
    "        y = self.out_act(a10)\n",
    "        return y"
   ]
  },
  {
   "cell_type": "code",
   "execution_count": 17,
   "metadata": {},
   "outputs": [
    {
     "data": {
      "text/plain": [
       "Classifier(\n",
       "  (fc1): Linear(in_features=811, out_features=533, bias=True)\n",
       "  (relu1): ReLU()\n",
       "  (dout): Dropout(p=0.2)\n",
       "  (fc2): Linear(in_features=533, out_features=355, bias=True)\n",
       "  (prelu): PReLU(num_parameters=1)\n",
       "  (fc3): Linear(in_features=355, out_features=236, bias=True)\n",
       "  (fc4): Linear(in_features=236, out_features=157, bias=True)\n",
       "  (fc5): Linear(in_features=157, out_features=100, bias=True)\n",
       "  (fc6): Linear(in_features=100, out_features=70, bias=True)\n",
       "  (fc7): Linear(in_features=70, out_features=45, bias=True)\n",
       "  (fc8): Linear(in_features=45, out_features=30, bias=True)\n",
       "  (fc9): Linear(in_features=30, out_features=10, bias=True)\n",
       "  (out): Linear(in_features=10, out_features=1, bias=True)\n",
       "  (out_act): Sigmoid()\n",
       ")"
      ]
     },
     "execution_count": 17,
     "metadata": {},
     "output_type": "execute_result"
    }
   ],
   "source": [
    "model = Classifier()\n",
    "model.load_state_dict(torch.load(r'.\\models\\pytorch_model.pt'))\n",
    "model.eval()"
   ]
  },
  {
   "cell_type": "code",
   "execution_count": 18,
   "metadata": {},
   "outputs": [],
   "source": [
    "data = pd.read_csv(r'.\\data\\testFinal.csv')"
   ]
  },
  {
   "cell_type": "code",
   "execution_count": 19,
   "metadata": {},
   "outputs": [],
   "source": [
    "ids = data['ID_code']\n",
    "data = data.drop('ID_code', axis=1)"
   ]
  },
  {
   "cell_type": "code",
   "execution_count": 20,
   "metadata": {},
   "outputs": [],
   "source": [
    "def predict_pytorch(data):\n",
    "    dtype = torch.FloatTensor\n",
    "\n",
    "    data_1 = torch.tensor(data.values).type(dtype)\n",
    "\n",
    "    with torch.no_grad():\n",
    "        y_pred = model.forward(data_1).cpu().numpy()\n",
    "\n",
    "    #y_pred = y_pred >= 0.5 ###------------------->> use when you want a binary output\n",
    "    y_pred = pd.DataFrame(y_pred)\n",
    "    return y_pred\n",
    "\n",
    "y_pred = predict_pytorch(data)"
   ]
  },
  {
   "cell_type": "code",
   "execution_count": 21,
   "metadata": {},
   "outputs": [],
   "source": [
    "#predicted = pd.DataFrame({'id':ids,'target': y_pred})\n",
    "y_pred.to_csv(r'.\\data\\output\\pytorch_predictions.csv')"
   ]
  },
  {
   "cell_type": "code",
   "execution_count": 22,
   "metadata": {},
   "outputs": [
    {
     "data": {
      "text/plain": [
       "3974"
      ]
     },
     "execution_count": 22,
     "metadata": {},
     "output_type": "execute_result"
    }
   ],
   "source": [
    "len(y_pred[y_pred[0]>=.5])"
   ]
  },
  {
   "cell_type": "code",
   "execution_count": 23,
   "metadata": {},
   "outputs": [
    {
     "data": {
      "text/plain": [
       "Index(['var_0', 'var_1', 'var_2', 'var_3', 'var_4', 'var_5', 'var_6', 'var_7',\n",
       "       'var_8', 'var_9',\n",
       "       ...\n",
       "       'var_198_deciles20', 'var_199_deciles20', 'sum_rows', 'median_rows',\n",
       "       'mean_rows', 'min_rows', 'max_rows', 'std_rows', 'skew_rows',\n",
       "       'kurt_rows'],\n",
       "      dtype='object', length=811)"
      ]
     },
     "execution_count": 23,
     "metadata": {},
     "output_type": "execute_result"
    }
   ],
   "source": [
    "data.columns"
   ]
  },
  {
   "cell_type": "code",
   "execution_count": null,
   "metadata": {},
   "outputs": [],
   "source": []
  }
 ],
 "metadata": {
  "kernelspec": {
   "display_name": "Python 3",
   "language": "python",
   "name": "python3"
  },
  "language_info": {
   "codemirror_mode": {
    "name": "ipython",
    "version": 3
   },
   "file_extension": ".py",
   "mimetype": "text/x-python",
   "name": "python",
   "nbconvert_exporter": "python",
   "pygments_lexer": "ipython3",
   "version": "3.5.6"
  }
 },
 "nbformat": 4,
 "nbformat_minor": 2
}
