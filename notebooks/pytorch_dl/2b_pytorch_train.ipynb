{
 "cells": [
  {
   "cell_type": "markdown",
   "metadata": {},
   "source": [
    "Training a prediction model using Pytorch Deep Learning\n",
    "=======================================\n",
    "**Author:** `Grej Segura`\n"
   ]
  },
  {
   "cell_type": "code",
   "execution_count": 23,
   "metadata": {},
   "outputs": [],
   "source": [
    "from torch import nn, optim\n",
    "from torch.autograd import Variable\n",
    "import torch\n",
    "import torch.nn.functional as F\n",
    "import torch.utils.data\n",
    "import torch.optim as optim\n",
    "\n",
    "import numpy as np\n",
    "import pandas as pd\n",
    "from sklearn.model_selection import train_test_split\n",
    "from sklearn import metrics\n",
    "from sklearn import preprocessing\n",
    "from imblearn.over_sampling import SMOTE\n",
    "import os\n",
    "import gc\n",
    "\n",
    "import matplotlib.pyplot as plt\n",
    "%matplotlib inline\n",
    "\n",
    "## clear GPU memory to optimize capacity\n",
    "torch.cuda.empty_cache()"
   ]
  },
  {
   "cell_type": "code",
   "execution_count": 24,
   "metadata": {},
   "outputs": [],
   "source": [
    "os.chdir(r'C:\\Users\\User\\Documents\\Data_Science_Projects\\santander-customer-prediction')\n",
    "\n",
    "# load the cleanData\n",
    "# load the cleanData\n",
    "data = pd.read_csv(r'.\\data\\trainFinal.csv')"
   ]
  },
  {
   "cell_type": "code",
   "execution_count": 25,
   "metadata": {},
   "outputs": [],
   "source": [
    "data = data.sample(frac=0.5, replace=False, random_state=1)"
   ]
  },
  {
   "cell_type": "code",
   "execution_count": 26,
   "metadata": {},
   "outputs": [],
   "source": [
    "# set the device to GPU if Gpu exists else use the CPU\n",
    "device = torch.device(\"cuda\" if torch.cuda.is_available() else \"cpu\")"
   ]
  },
  {
   "cell_type": "markdown",
   "metadata": {},
   "source": [
    "##### Creating train and test dataset"
   ]
  },
  {
   "cell_type": "code",
   "execution_count": 27,
   "metadata": {},
   "outputs": [],
   "source": [
    "def preprocess_data(data):\n",
    "    data = data.rename(columns={'target': 'labels'})\n",
    "    summary = data.describe().transpose()\n",
    "    cols = data[summary[summary['max']>1].reset_index()['index'].tolist()].columns[1:]\n",
    "\n",
    "    # separate the labels/target variable\n",
    "    dataX = data.drop(['labels'], axis = 1)\n",
    "    dataY = data['labels']\n",
    "\n",
    "    # Create train and test dataset\n",
    "    X_train, x_test, Y_train, y_test = train_test_split(dataX, dataY, stratify=dataY)\n",
    "\n",
    "    gather_data = pd.DataFrame(columns = ['feature', 'mean', 'std'])\n",
    "#    for i in cols:\n",
    "#        ave = X_train[i].mean()\n",
    "#        std = X_train[i].std()\n",
    "#        appended = pd.DataFrame({'feature': i, 'mean': ave, 'std': std}, index = [0])\n",
    "#        gather_data = gather_data.append(appended, ignore_index=True)\n",
    "#        x_test[i] = (x_test[i]-ave)/std\n",
    "#        X_train[i] = (X_train[i]-ave)/std\n",
    "\n",
    "    # First, scale the Data - only those numerical/non-categorical\n",
    "    x_test = np.array(x_test)\n",
    "    y_test = np.array(y_test)\n",
    "    return X_train, x_test, Y_train, y_test, #gather_data\n",
    "\n",
    "X_train, x_test, Y_train, y_test = preprocess_data(data)\n",
    "#gather_data.to_csv(r'.\\data\\output\\mean_std_scaler.csv', index=False)\n",
    "\n"
   ]
  },
  {
   "cell_type": "code",
   "execution_count": 29,
   "metadata": {},
   "outputs": [
    {
     "data": {
      "text/plain": [
       "207"
      ]
     },
     "execution_count": 29,
     "metadata": {},
     "output_type": "execute_result"
    }
   ],
   "source": [
    "#gather_data.to_csv(r'.\\data\\output\\mean_std_scaler.csv', index=False)\n",
    "n_columns = len(data.columns)\n",
    "del data\n",
    "gc.collect()\n"
   ]
  },
  {
   "cell_type": "markdown",
   "metadata": {},
   "source": [
    "#### Convert the data to tensor and load to cuda memory"
   ]
  },
  {
   "cell_type": "code",
   "execution_count": 30,
   "metadata": {},
   "outputs": [],
   "source": [
    "def convert_to_tensor(X, Y, x_test, y_test):\n",
    "    # making sure the training will use gpu\n",
    "    torch.cuda.set_device(0)\n",
    "    torch.backends.cudnn.benchmark=True\n",
    "\n",
    "    # convert all dataset to cuda tensor to be able to use the GPU\n",
    "    dtype = torch.cuda.FloatTensor\n",
    "    X = np.array(X)\n",
    "    x_test = np.array(x_test)\n",
    "    Y = np.array(Y)\n",
    "    y_test = np.array(y_test)\n",
    "    X_train = torch.tensor(X, device=device).type(dtype)\n",
    "    x_test = torch.tensor(x_test, device=device).type(dtype)\n",
    "\n",
    "\n",
    "    Y_train = torch.tensor(Y, device=device).type(dtype)\n",
    "    y_test = torch.tensor(y_test, device=device).type(dtype)\n",
    "\n",
    "    Y_train = torch.unsqueeze(Y_train, 1)\n",
    "    y_test = torch.unsqueeze(y_test, 1)\n",
    "    return X_train, x_test, Y_train, y_test\n",
    "\n",
    "X_train, x_test, Y_train, y_test = convert_to_tensor(X_train, Y_train, x_test, y_test)"
   ]
  },
  {
   "cell_type": "code",
   "execution_count": 31,
   "metadata": {},
   "outputs": [
    {
     "name": "stdout",
     "output_type": "stream",
     "text": [
      "7478\n",
      "67522\n"
     ]
    }
   ],
   "source": [
    "print(len(Y_train[Y_train==1]))\n",
    "print(len(Y_train[Y_train==0]))"
   ]
  },
  {
   "cell_type": "markdown",
   "metadata": {},
   "source": [
    "#### Creating the model and training"
   ]
  },
  {
   "cell_type": "code",
   "execution_count": 33,
   "metadata": {},
   "outputs": [],
   "source": [
    "class Classifier(nn.Module):\n",
    "    def __init__(self):\n",
    "        super().__init__()\n",
    "        \n",
    "        self.fc1 = nn.Linear(n_columns-1, 533)\n",
    "        self.relu1 = nn.ReLU()\n",
    "        self.dout = nn.Dropout(0.2)\n",
    "                \n",
    "        self.fc2 = nn.Linear(533, 355)\n",
    "        self.prelu = nn.PReLU(1)\n",
    "        self.dout = nn.Dropout(0.2)\n",
    "        \n",
    "        self.fc3 = nn.Linear(355, 236)\n",
    "        self.prelu = nn.PReLU(1)\n",
    "        self.dout = nn.Dropout(0.2)\n",
    "        \n",
    "        self.fc4 = nn.Linear(236, 157)\n",
    "        self.prelu = nn.PReLU(1)\n",
    "        self.dout = nn.Dropout(0.2)                             \n",
    "        \n",
    "        self.fc5 = nn.Linear(157, 100)\n",
    "        self.prelu = nn.PReLU(1)\n",
    "        self.dout = nn.Dropout(0.2)\n",
    "        \n",
    "        self.fc6 = nn.Linear(100, 70)\n",
    "        self.prelu = nn.PReLU(1)\n",
    "        self.dout = nn.Dropout(0.2)\n",
    "                             \n",
    "        self.fc7 = nn.Linear(70, 45)\n",
    "        self.prelu = nn.PReLU(1)\n",
    "        self.dout = nn.Dropout(0.2)\n",
    "                             \n",
    "        self.fc8 = nn.Linear(45, 30)\n",
    "        self.prelu = nn.PReLU(1)\n",
    "        self.dout = nn.Dropout(0.2)\n",
    "\n",
    "        self.fc9 = nn.Linear(30, 10)\n",
    "        self.prelu = nn.PReLU(1)\n",
    "                             \n",
    "        self.out = nn.Linear(10, 1)\n",
    "        self.out_act = nn.Sigmoid()\n",
    "        \n",
    "    def forward(self, input_):\n",
    "        a1 = self.fc1(input_)\n",
    "        h1 = self.relu1(a1)\n",
    "        dout = self.dout(h1)\n",
    "        \n",
    "        a2 = self.fc2(dout)\n",
    "        h2 = self.prelu(a2)\n",
    "        dout = self.dout(h2)\n",
    "        \n",
    "        a3 = self.fc3(dout)\n",
    "        h3 = self.prelu(a3)\n",
    "        dout = self.dout(h3)\n",
    "        \n",
    "        a4 = self.fc4(dout)\n",
    "        h4 = self.prelu(a4)\n",
    "        dout = self.dout(h4)\n",
    "        \n",
    "        a5 = self.fc5(dout)\n",
    "        h5 = self.prelu(a5)\n",
    "        dout = self.dout(h5)\n",
    "        \n",
    "        a6 = self.fc6(dout)\n",
    "        h6 = self.prelu(a6)\n",
    "        dout = self.dout(h6)\n",
    "\n",
    "        a7 = self.fc7(dout)\n",
    "        h7 = self.prelu(a7)\n",
    "        dout = self.dout(h7)\n",
    "                             \n",
    "        a8 = self.fc8(dout)\n",
    "        h8 = self.prelu(a8)\n",
    "        dout = self.dout(h8)\n",
    "                             \n",
    "        a9 = self.fc9(dout)\n",
    "        h8 = self.prelu(a9)\n",
    "                             \n",
    "        a10 = self.out(h8)\n",
    "        \n",
    "        y = self.out_act(a10)\n",
    "        return y"
   ]
  },
  {
   "cell_type": "code",
   "execution_count": 34,
   "metadata": {},
   "outputs": [],
   "source": [
    "model = Classifier().cuda()\n",
    "criterion = nn.BCELoss() ## loss function for binary classification\n",
    "optimizer = optim.Adam(model.parameters(), lr=0.003) ## adam optimizer"
   ]
  },
  {
   "cell_type": "code",
   "execution_count": 35,
   "metadata": {},
   "outputs": [
    {
     "data": {
      "text/plain": [
       "60"
      ]
     },
     "execution_count": 35,
     "metadata": {},
     "output_type": "execute_result"
    }
   ],
   "source": [
    "## clear GPU memory to optimize capacity\n",
    "torch.cuda.empty_cache()\n",
    "gc.collect()"
   ]
  },
  {
   "cell_type": "code",
   "execution_count": 36,
   "metadata": {},
   "outputs": [
    {
     "name": "stdout",
     "output_type": "stream",
     "text": [
      "epoch 0, loss 0.6470701098442078\n",
      "epoch 50, loss 0.2638011574745178\n",
      "epoch 100, loss 0.2452404648065567\n",
      "epoch 150, loss 0.2537733316421509\n",
      "epoch 200, loss 0.2594269812107086\n",
      "epoch 250, loss 0.25835567712783813\n",
      "epoch 300, loss 0.23210325837135315\n",
      "epoch 350, loss 0.27951186895370483\n",
      "epoch 400, loss 0.25674450397491455\n",
      "epoch 450, loss 0.23541724681854248\n",
      "epoch 500, loss 0.22589921951293945\n",
      "epoch 550, loss 0.23208153247833252\n",
      "epoch 600, loss 0.22845427691936493\n",
      "epoch 650, loss 0.22770893573760986\n",
      "epoch 700, loss 0.22971414029598236\n",
      "epoch 750, loss 0.22369801998138428\n",
      "epoch 800, loss 0.22455234825611115\n",
      "epoch 850, loss 0.23314206302165985\n",
      "epoch 900, loss 0.22385695576667786\n",
      "epoch 950, loss 0.22227588295936584\n",
      "epoch 1000, loss 0.22692681849002838\n",
      "epoch 1050, loss 0.22560130059719086\n",
      "epoch 1100, loss 0.22276583313941956\n",
      "epoch 1150, loss 0.22468259930610657\n",
      "epoch 1200, loss 0.22288239002227783\n",
      "epoch 1250, loss 0.2244146317243576\n",
      "epoch 1300, loss 0.23475797474384308\n",
      "epoch 1350, loss 0.23003582656383514\n",
      "epoch 1400, loss 0.23085099458694458\n",
      "epoch 1450, loss 0.2264491617679596\n",
      "epoch 1500, loss 0.22669698297977448\n",
      "epoch 1550, loss 0.2283061444759369\n",
      "epoch 1600, loss 0.23496218025684357\n",
      "epoch 1650, loss 0.23149476945400238\n",
      "epoch 1700, loss 0.22949790954589844\n",
      "epoch 1750, loss 0.23423507809638977\n",
      "epoch 1800, loss 0.23540551960468292\n",
      "epoch 1850, loss 0.22639642655849457\n",
      "epoch 1900, loss 0.2289542704820633\n",
      "epoch 1950, loss 0.231915682554245\n"
     ]
    },
    {
     "data": {
      "text/plain": [
       "[<matplotlib.lines.Line2D at 0x28125c78cc0>]"
      ]
     },
     "execution_count": 36,
     "metadata": {},
     "output_type": "execute_result"
    },
    {
     "data": {
      "image/png": "[encoded data removed]",
      "text/plain": [
       "<Figure size 432x288 with 1 Axes>"
      ]
     },
     "metadata": {
      "needs_background": "light"
     },
     "output_type": "display_data"
    }
   ],
   "source": [
    "n_epochs = 2000\n",
    "e_losses = []\n",
    "\n",
    "for epoch in range(n_epochs):\n",
    "    \n",
    "    # forward pass\n",
    "    outputs = model.forward(X_train)\n",
    "\n",
    "    # calculate loss (MSE)\n",
    "    loss = criterion(outputs, Y_train)\n",
    "    e_losses.append(loss.data.detach())\n",
    "\n",
    "    # compute gradients\n",
    "    loss.backward()\n",
    "    \n",
    "    # perform one step in the oposite direction to the gradient (update weights)\n",
    "    optimizer.step()\n",
    "    \n",
    "    # clear gradient values after weights are updated\n",
    "    optimizer.zero_grad()\n",
    "    torch.cuda.empty_cache()\n",
    "    if epoch % 50 == 0:\n",
    "        print('epoch {}, loss {}'.format(epoch, loss.item()))\n",
    "plt.plot(e_losses)"
   ]
  },
  {
   "cell_type": "code",
   "execution_count": 37,
   "metadata": {},
   "outputs": [
    {
     "name": "stdout",
     "output_type": "stream",
     "text": [
      "\n",
      "\n",
      "accuracy is 0.9322666666666667\n",
      "precision is 0.8258152173913044\n",
      "recall is 0.40639208344477135\n",
      "auc is 0.6984494406145986\n",
      "f1-score is 0.5447212762143754\n",
      "\n",
      "\n",
      "accuracy is 0.90604\n",
      "precision is 0.5634920634920635\n",
      "recall is 0.2563176895306859\n",
      "auc is 0.617162265923205\n",
      "f1-score is 0.3523573200992555\n"
     ]
    }
   ],
   "source": [
    "def predict_new_data(x_test, y_test, model):\n",
    "    # switch to evaluation mode\n",
    "    model = model.eval()\n",
    "\n",
    "    with torch.no_grad():\n",
    "        y_pred = model.forward(x_test).cpu().numpy()\n",
    "\n",
    "    y_pred = y_pred >= 0.5\n",
    "    y_pred = y_pred.astype(int)\n",
    "    y_test = y_test.cpu().numpy()\n",
    "    accuracy = metrics.accuracy_score(y_pred, y_test).astype(str)\n",
    "    print('\\n\\naccuracy is ' + accuracy)\n",
    "\n",
    "    precision = metrics.precision_score(y_test, y_pred).astype(str)\n",
    "    print('precision is ' + precision)\n",
    "    recall = metrics.recall_score(y_test, y_pred).astype(str)\n",
    "    print('recall is ' + recall)\n",
    "    auc = metrics.roc_auc_score(np.asarray(y_test), y_pred).astype(str)\n",
    "    print('auc is ' + auc)\n",
    "\n",
    "    f1 = 2*((precision.astype(np.float64)*recall.astype(np.float64))/(precision.astype(np.float64)+recall.astype(np.float64)))\n",
    "    print('f1-score is ' + f1.astype(str))\n",
    "    \n",
    "    return y_pred\n",
    "\n",
    "y_pred_train = predict_new_data(X_train, Y_train, model)\n",
    "y_pred_test = predict_new_data(x_test, y_test, model)"
   ]
  },
  {
   "cell_type": "code",
   "execution_count": 38,
   "metadata": {},
   "outputs": [],
   "source": [
    "## save the model\n",
    "torch.save(model.state_dict(), r'.\\models\\pytorch_model.pt')"
   ]
  },
  {
   "cell_type": "code",
   "execution_count": 39,
   "metadata": {},
   "outputs": [
    {
     "data": {
      "text/plain": [
       "0"
      ]
     },
     "execution_count": 39,
     "metadata": {},
     "output_type": "execute_result"
    }
   ],
   "source": [
    "## clear GPU memory to optimize capacity\n",
    "torch.cuda.empty_cache()\n",
    "del X_train, Y_train, x_test, y_test\n",
    "gc.collect()"
   ]
  },
  {
   "cell_type": "code",
   "execution_count": null,
   "metadata": {},
   "outputs": [],
   "source": [
    "'''accuracy is 0.9198761904761905\n",
    "precision is 0.7797716150081566\n",
    "recall is 0.27389934103715025\n",
    "auc is 0.6326652710221242\n",
    "f1-score is 0.4053996748886848\n",
    "\n",
    "\n",
    "accuracy is 0.9119428571428572\n",
    "precision is 0.6574074074074074\n",
    "recall is 0.24412607449856732\n",
    "auc is 0.6150176548310038\n",
    "f1-score is 0.3560384454659423'''"
   ]
  },
  {
   "cell_type": "code",
   "execution_count": null,
   "metadata": {},
   "outputs": [],
   "source": []
  }
 ],
 "metadata": {
  "kernelspec": {
   "display_name": "Python 3",
   "language": "python",
   "name": "python3"
  },
  "language_info": {
   "codemirror_mode": {
    "name": "ipython",
    "version": 3
   },
   "file_extension": ".py",
   "mimetype": "text/x-python",
   "name": "python",
   "nbconvert_exporter": "python",
   "pygments_lexer": "ipython3",
   "version": "3.5.6"
  }
 },
 "nbformat": 4,
 "nbformat_minor": 2
}
