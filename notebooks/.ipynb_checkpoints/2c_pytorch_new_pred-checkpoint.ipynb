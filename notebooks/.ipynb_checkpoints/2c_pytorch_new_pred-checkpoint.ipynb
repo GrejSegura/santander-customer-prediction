{
 "cells": [
  {
   "cell_type": "code",
   "execution_count": 1,
   "metadata": {},
   "outputs": [],
   "source": [
    "from torch import nn, optim\n",
    "from torch.autograd import Variable\n",
    "import torch\n",
    "import torch.nn.functional as F\n",
    "import torch.utils.data\n",
    "import torch.optim as optim\n",
    "\n",
    "import numpy as np\n",
    "import pandas as pd\n",
    "from sklearn.model_selection import train_test_split\n",
    "from sklearn import metrics\n",
    "from sklearn import preprocessing\n",
    "import gc\n",
    "import os\n",
    "\n",
    "## clear GPU memory to optimize capacity\n",
    "torch.cuda.empty_cache()\n",
    "\n",
    "os.chdir(r'C:\\Users\\User\\Documents\\Data_Science_Projects\\food-expo-attendee-prediction-project')\n"
   ]
  },
  {
   "cell_type": "code",
   "execution_count": 2,
   "metadata": {},
   "outputs": [],
   "source": [
    "class Classifier(nn.Module):\n",
    "    def __init__(self):\n",
    "        super().__init__()\n",
    "        \n",
    "        self.fc1 = nn.Linear(305, 300)\n",
    "        self.relu1 = nn.ReLU()\n",
    "        self.dout = nn.Dropout(0.2)\n",
    "                \n",
    "        self.fc2 = nn.Linear(300, 200)\n",
    "        self.prelu = nn.PReLU(1)\n",
    "        self.dout = nn.Dropout(0.2)\n",
    "        \n",
    "        self.fc3 = nn.Linear(200, 100)\n",
    "        self.prelu = nn.PReLU(1)\n",
    "        self.dout = nn.Dropout(0.2)\n",
    "        \n",
    "        self.fc4 = nn.Linear(100, 50)\n",
    "        self.prelu = nn.PReLU(1)\n",
    "        \n",
    "        self.fc5 = nn.Linear(50, 20)\n",
    "        self.prelu = nn.PReLU(1)\n",
    "        \n",
    "        self.fc6 = nn.Linear(20, 5)\n",
    "        self.prelu = nn.PReLU(1)\n",
    "        \n",
    "        self.out = nn.Linear(5, 1)\n",
    "        self.out_act = nn.Sigmoid()\n",
    "        \n",
    "    def forward(self, input_):\n",
    "        a1 = self.fc1(input_)\n",
    "        h1 = self.relu1(a1)\n",
    "        dout = self.dout(h1)\n",
    "        \n",
    "        a2 = self.fc2(dout)\n",
    "        h2 = self.prelu(a2)\n",
    "        dout = self.dout(h2)\n",
    "        \n",
    "        a3 = self.fc3(dout)\n",
    "        h3 = self.prelu(a3)\n",
    "        dout = self.dout(h3)\n",
    "        \n",
    "        a4 = self.fc4(dout)\n",
    "        h4 = self.prelu(a4)\n",
    "        \n",
    "        a5 = self.fc5(h4)\n",
    "        h5 = self.prelu(a5)\n",
    "        \n",
    "        a6 = self.fc6(h5)\n",
    "        h6 = self.prelu(a6)\n",
    "        \n",
    "        a7 = self.out(h6)\n",
    "        \n",
    "        y = self.out_act(a7)\n",
    "        return y"
   ]
  },
  {
   "cell_type": "code",
   "execution_count": 3,
   "metadata": {},
   "outputs": [
    {
     "data": {
      "text/plain": [
       "Classifier(\n",
       "  (fc1): Linear(in_features=305, out_features=300, bias=True)\n",
       "  (relu1): ReLU()\n",
       "  (dout): Dropout(p=0.2)\n",
       "  (fc2): Linear(in_features=300, out_features=200, bias=True)\n",
       "  (prelu): PReLU(num_parameters=1)\n",
       "  (fc3): Linear(in_features=200, out_features=100, bias=True)\n",
       "  (fc4): Linear(in_features=100, out_features=50, bias=True)\n",
       "  (fc5): Linear(in_features=50, out_features=20, bias=True)\n",
       "  (fc6): Linear(in_features=20, out_features=5, bias=True)\n",
       "  (out): Linear(in_features=5, out_features=1, bias=True)\n",
       "  (out_act): Sigmoid()\n",
       ")"
      ]
     },
     "execution_count": 3,
     "metadata": {},
     "output_type": "execute_result"
    }
   ],
   "source": [
    "model = Classifier()\n",
    "model.load_state_dict(torch.load(r'.\\models\\pytorch_model.pt'))\n",
    "model.eval()"
   ]
  },
  {
   "cell_type": "code",
   "execution_count": 4,
   "metadata": {},
   "outputs": [
    {
     "name": "stderr",
     "output_type": "stream",
     "text": [
      "C:\\Users\\User\\Anaconda3\\lib\\site-packages\\sklearn\\preprocessing\\data.py:617: DataConversionWarning: Data with input dtype int64, float64 were all converted to float64 by StandardScaler.\n",
      "  return self.partial_fit(X, y)\n",
      "C:\\Users\\User\\Anaconda3\\lib\\site-packages\\sklearn\\base.py:462: DataConversionWarning: Data with input dtype int64, float64 were all converted to float64 by StandardScaler.\n",
      "  return self.fit(X, **fit_params).transform(X)\n"
     ]
    }
   ],
   "source": [
    "data = pd.read_pickle(r'.\\data\\output\\dataForPreds.pkl')\n",
    "def scale_data(data):\n",
    "    cols = pd.read_csv(r'.\\data\\output\\mean_std_scaler.csv')\n",
    "    for i in range(len(cols)):\n",
    "        column = cols['feature'][i]\n",
    "        mean = cols['mean'][i]\n",
    "        std = cols['std'][i]\n",
    "        data[column] = (data[column]-mean)/std\n",
    "    return data\n",
    "\n",
    "data = scale_data(data)\n"
   ]
  },
  {
   "cell_type": "code",
   "execution_count": null,
   "metadata": {},
   "outputs": [],
   "source": [
    "def predict_pytorch(data):\n",
    "    ids = data['10 Digit Card Number']\n",
    "    data = data.drop(['10 Digit Card Number', 'show', 'latitude', 'longitude', 'count_per_comp_website', 'count_per_website'], axis=1)    # convert all dataset to tensor\n",
    "    dtype = torch.FloatTensor\n",
    "\n",
    "    data_1 = torch.tensor(data.values).type(dtype)\n",
    "\n",
    "    with torch.no_grad():\n",
    "        y_pred = model.forward(data_1).cpu().numpy()\n",
    "\n",
    "    #y_pred = y_pred >= 0.5 ###------------------->> use when you want a binary output\n",
    "    y_pred = pd.DataFrame(y_pred)\n",
    "    y_pred['10 Digit Card Number'] = ids\n",
    "    return y_pred\n",
    "\n",
    "y_pred = predict_pytorch(data)"
   ]
  },
  {
   "cell_type": "code",
   "execution_count": 5,
   "metadata": {},
   "outputs": [],
   "source": [
    "y_pred.to_csv(r'.\\data\\output\\pytorch_predictions.csv')"
   ]
  },
  {
   "cell_type": "code",
   "execution_count": 8,
   "metadata": {},
   "outputs": [
    {
     "data": {
      "text/plain": [
       "62765"
      ]
     },
     "execution_count": 8,
     "metadata": {},
     "output_type": "execute_result"
    }
   ],
   "source": [
    "len(y_pred[y_pred[0]>=1])"
   ]
  },
  {
   "cell_type": "code",
   "execution_count": null,
   "metadata": {},
   "outputs": [],
   "source": []
  }
 ],
 "metadata": {
  "kernelspec": {
   "display_name": "Python 3",
   "language": "python",
   "name": "python3"
  },
  "language_info": {
   "codemirror_mode": {
    "name": "ipython",
    "version": 3
   },
   "file_extension": ".py",
   "mimetype": "text/x-python",
   "name": "python",
   "nbconvert_exporter": "python",
   "pygments_lexer": "ipython3",
   "version": "3.5.6"
  }
 },
 "nbformat": 4,
 "nbformat_minor": 2
}
