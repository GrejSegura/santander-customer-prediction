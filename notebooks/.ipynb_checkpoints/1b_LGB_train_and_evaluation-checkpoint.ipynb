{
 "cells": [
  {
   "cell_type": "markdown",
   "metadata": {},
   "source": [
    "Training a Light GBM model\n",
    "=================\n",
    "**Author:** `Grej Segura`"
   ]
  },
  {
   "cell_type": "code",
   "execution_count": 1,
   "metadata": {},
   "outputs": [],
   "source": [
    "# -*- coding: utf-8 -*-\n",
    "\n",
    "import random\n",
    "import numpy as np\n",
    "import pandas as pd\n",
    "import os\n",
    "from sklearn.model_selection import train_test_split\n",
    "from sklearn import metrics\n",
    "import lightgbm as lgb\n",
    "from sklearn import preprocessing\n",
    "from imblearn.over_sampling import SMOTE\n",
    "import pickle\n",
    "import gc\n",
    "random.seed(23)\n",
    "\n",
    "## set the directory\n",
    "os.chdir(r'C:\\Users\\User\\Documents\\Data_Science_Projects\\santander-customer-prediction')\n",
    "\n",
    "# load the cleanData\n",
    "data = pd.read_csv(r'.\\data\\trainFinal.csv')\n",
    "testdata = pd.read_csv(r'.\\data\\testFinal.csv')\n"
   ]
  },
  {
   "cell_type": "code",
   "execution_count": 2,
   "metadata": {},
   "outputs": [],
   "source": [
    "features = pd.read_csv(r'.\\data\\features.csv')\n",
    "feature_imp = features[features['0']>0]\n",
    "feature_selected = np.array(feature_imp['1'])\n",
    "feature_selected = np.append(feature_selected, 'target')"
   ]
  },
  {
   "cell_type": "markdown",
   "metadata": {},
   "source": [
    "#### Split data - train and test"
   ]
  },
  {
   "cell_type": "code",
   "execution_count": 3,
   "metadata": {},
   "outputs": [],
   "source": [
    "def preprocess_data(data):\n",
    "    data = data.rename(columns={'target': 'labels'})\n",
    "\n",
    "    # separate the labels/target variable\n",
    "    dataX = data.drop(['labels'], axis = 1)\n",
    "    dataY = data['labels']\n",
    "    \n",
    "    # Create train and test dataset\n",
    "    X_train, x_test, Y_train, y_test = train_test_split(dataX, dataY, random_state = 0)\n",
    "    \n",
    "    # First, scale the Data - only those numerical/non-categorical\n",
    "    return X_train, x_test, Y_train, y_test, gather_data\n",
    "\n",
    "X_train, x_test, Y_train, y_test, gather_data = preprocess_data(data)"
   ]
  },
  {
   "cell_type": "code",
   "execution_count": 5,
   "metadata": {},
   "outputs": [
    {
     "name": "stdout",
     "output_type": "stream",
     "text": [
      "15000\n",
      "135000\n"
     ]
    }
   ],
   "source": [
    "print(len(Y_train[Y_train==1]))\n",
    "print(len(Y_train[Y_train==0]))"
   ]
  },
  {
   "cell_type": "code",
   "execution_count": 6,
   "metadata": {},
   "outputs": [
    {
     "name": "stderr",
     "output_type": "stream",
     "text": [
      "C:\\Users\\User\\Anaconda3\\lib\\site-packages\\lightgbm\\engine.py:111: UserWarning: Found `num_boost_round` in params. Will use it instead of argument\n",
      "  warnings.warn(\"Found `{}` in params. Will use it instead of argument\".format(alias))\n"
     ]
    }
   ],
   "source": [
    "def train_model(X_train, Y_train):\n",
    "    d_train = lgb.Dataset(X_train, label=Y_train)\n",
    "    params = {'boosting_type':'gbdt',  'objective':'binary', 'metric':'auc',\n",
    "             'bagging_fraction': 0.55,\n",
    "             'bagging_freq': 5,\n",
    "             'bagging_seed': 1234,\n",
    "             'boost_from_average': False,\n",
    "             'data_random_seed': 1234,\n",
    "             'drop_seed': 1234,\n",
    "             'feature_fraction_seed': 1234,\n",
    "             'is_unbalance': True,\n",
    "             'lambda_l1': 0.1,\n",
    "             'lambda_l2': 0.1,\n",
    "             'learning_rate': 0.1,\n",
    "             'max_bin': 63,\n",
    "             'max_depth': 14,\n",
    "             'min_data': 25,\n",
    "             'num_boost_round': 600,\n",
    "             'num_leaves': 6,\n",
    "             'reg_alpha': 0.4,\n",
    "             'save_binary': True,\n",
    "             'seed': 123,\n",
    "             'sub_feature': 0.5,\n",
    "             'verbose': 1}\n",
    "    model = lgb.train(params, d_train)\n",
    "    return model, params\n",
    "\n",
    "model, parameters = train_model(X_train, Y_train)"
   ]
  },
  {
   "cell_type": "code",
   "execution_count": 7,
   "metadata": {},
   "outputs": [
    {
     "name": "stdout",
     "output_type": "stream",
     "text": [
      "\n",
      "\n",
      "\n",
      "The following are metrices for  TRAIN  data\n",
      "\n",
      "ACCURACY is 0.8404733333333333\n",
      "\n",
      " CONFUSION MATRIX:\n",
      " true            0      1\n",
      "predicted               \n",
      "0.0        113411   2340\n",
      "1.0         21589  12660\n",
      "\n",
      " TRAIN DATA PRECISION 0.36964582907530147\n",
      "\n",
      " TRAIN DATA RECALL 0.844\n",
      "\n",
      " TRAIN DATA AUC 0.8420407407407406\n",
      "\n",
      "\n",
      "\n",
      "The following are metrices for  TEST  data\n",
      "\n",
      "ACCURACY is 0.82814\n",
      "\n",
      " CONFUSION MATRIX:\n",
      " true           0     1\n",
      "predicted             \n",
      "0.0        37406  1097\n",
      "1.0         7496  4001\n",
      "\n",
      " TEST DATA PRECISION 0.3480038270853266\n",
      "\n",
      " TEST DATA RECALL 0.7848175755198117\n",
      "\n",
      " TEST DATA AUC 0.8089381183019753\n"
     ]
    }
   ],
   "source": [
    "def predict_data(X, Y, data_type):\n",
    "    ## predicting test data\n",
    "    y_pred = model.predict(X)\n",
    "    for i in range(len(X)):\n",
    "        if y_pred[i]>=.5:       # setting threshold to .5\n",
    "           y_pred[i]=1\n",
    "        else:  \n",
    "           y_pred[i]=0\n",
    "\n",
    "    #print accuracy_score(y_test, predicted) for test data\n",
    "    accuracy = metrics.accuracy_score(y_pred, Y)\n",
    "    print('\\n\\n\\nThe following are metrices for ', data_type, ' data')\n",
    "    print('\\nACCURACY is ' + accuracy.astype(str))\n",
    "    preds = pd.DataFrame({'true': Y, 'predicted': y_pred})\n",
    "    confusion = pd.crosstab(preds['predicted'], preds['true'])\n",
    "    print('\\n CONFUSION MATRIX:\\n', confusion)\n",
    "    precision = metrics.precision_score(Y, y_pred)\n",
    "    print('\\n', data_type ,'DATA PRECISION ' + precision.astype(str))\n",
    "    recall = metrics.recall_score(Y, y_pred)\n",
    "    print('\\n', data_type ,'DATA RECALL ' + recall.astype(str))\n",
    "    auc = metrics.roc_auc_score(np.asarray(Y), y_pred).astype(str)\n",
    "    print('\\n', data_type ,'DATA AUC ' + auc.astype(str))\n",
    "\n",
    "    return y_pred, accuracy, precision, recall\n",
    "\n",
    "y_pred_train,_,_,_ = predict_data(X_train, Y_train, data_type='TRAIN')\n",
    "y_pred_test, accuracy, precision, recall = predict_data(x_test, y_test, data_type='TEST')\n",
    "## save the model - this will be used in the deployment part to generate new predictions\n",
    "pickle.dump(model, open(r'.\\models\\lightGBMmodel.sav', 'wb'))"
   ]
  },
  {
   "cell_type": "code",
   "execution_count": 8,
   "metadata": {},
   "outputs": [
    {
     "data": {
      "text/plain": [
       "\"\\nparams = {'boost_from_average': False, 'min_data': 25, 'boosting_type': 'gbdt', 'max_depth': 13, 'min_sum_hessian_in_leaf': 0.000446, 'bagging_fraction': 0.55, 'sub_feature': 0.7, 'bagging_seed': 1234, 'objective': 'binary', 'is_unbalance': True, 'lambda_l2': 0.1, 'bagging_freq': 5, 'verbose': 1, 'learning_rate': 0.1, 'reg_alpha': 0.1, 'num_boost_round': 600, 'max_bin': 63, 'save_binary': True, 'metric': 'auc', 'lambda_l1': 0.1, 'num_leaves': 6, 'feature_fraction_seed': 1234, 'data_random_seed': 1234, 'seed': 123, 'drop_seed': 1234}\\n\\n\\nThe following are metrices for  TRAIN  data\\n\\nACCURACY is 0.8398466666666666\\n\\n CONFUSION MATRIX:\\n true            0      1\\npredicted               \\n0.0        113284   2380\\n1.0         21643  12693\\n\\n TRAIN DATA PRECISION 0.36967031686859275\\n\\n TRAIN DATA RECALL 0.8421017713792874\\n\\n TRAIN DATA AUC 0.840848257601863\\n\\n\\n\\nThe following are metrices for  TEST  data\\n\\nACCURACY is 0.82842\\n\\n CONFUSION MATRIX:\\n true           0     1\\npredicted             \\n0.0        37479  1083\\n1.0         7496  3942\\n\\n TEST DATA PRECISION 0.344640671446057\\n\\n TEST DATA RECALL 0.7844776119402985\\n\\n TEST DATA AUC 0.8089036197555856\""
      ]
     },
     "execution_count": 8,
     "metadata": {},
     "output_type": "execute_result"
    }
   ],
   "source": [
    "### best local score\n",
    "'''\n",
    "params = {'boost_from_average': False, 'min_data': 25, 'boosting_type': 'gbdt', 'max_depth': 13, 'min_sum_hessian_in_leaf': 0.000446, 'bagging_fraction': 0.55, 'sub_feature': 0.7, 'bagging_seed': 1234, 'objective': 'binary', 'is_unbalance': True, 'lambda_l2': 0.1, 'bagging_freq': 5, 'verbose': 1, 'learning_rate': 0.1, 'reg_alpha': 0.1, 'num_boost_round': 600, 'max_bin': 63, 'save_binary': True, 'metric': 'auc', 'lambda_l1': 0.1, 'num_leaves': 6, 'feature_fraction_seed': 1234, 'data_random_seed': 1234, 'seed': 123, 'drop_seed': 1234}\n",
    "\n",
    "\n",
    "The following are metrices for  TRAIN  data\n",
    "\n",
    "ACCURACY is 0.8398466666666666\n",
    "\n",
    " CONFUSION MATRIX:\n",
    " true            0      1\n",
    "predicted               \n",
    "0.0        113284   2380\n",
    "1.0         21643  12693\n",
    "\n",
    " TRAIN DATA PRECISION 0.36967031686859275\n",
    "\n",
    " TRAIN DATA RECALL 0.8421017713792874\n",
    "\n",
    " TRAIN DATA AUC 0.840848257601863\n",
    "\n",
    "\n",
    "\n",
    "The following are metrices for  TEST  data\n",
    "\n",
    "ACCURACY is 0.82842\n",
    "\n",
    " CONFUSION MATRIX:\n",
    " true           0     1\n",
    "predicted             \n",
    "0.0        37479  1083\n",
    "1.0         7496  3942\n",
    "\n",
    " TEST DATA PRECISION 0.344640671446057\n",
    "\n",
    " TEST DATA RECALL 0.7844776119402985\n",
    "\n",
    " TEST DATA AUC 0.8089036197555856'''"
   ]
  },
  {
   "cell_type": "code",
   "execution_count": 9,
   "metadata": {},
   "outputs": [
    {
     "data": {
      "text/plain": [
       "Index(['target', 'var_0', 'var_1', 'var_2', 'var_3', 'var_4', 'var_5', 'var_6',\n",
       "       'var_7', 'var_8',\n",
       "       ...\n",
       "       'var_198', 'var_199', 'sum_rows', 'median_rows', 'mean_rows',\n",
       "       'min_rows', 'max_rows', 'std_rows', 'skew_rows', 'kurt_rows'],\n",
       "      dtype='object', length=209)"
      ]
     },
     "execution_count": 9,
     "metadata": {},
     "output_type": "execute_result"
    }
   ],
   "source": [
    "data.columns"
   ]
  },
  {
   "cell_type": "code",
   "execution_count": 10,
   "metadata": {},
   "outputs": [
    {
     "ename": "FileNotFoundError",
     "evalue": "File b'.\\\\data\\\\training_log.csv' does not exist",
     "output_type": "error",
     "traceback": [
      "\u001b[1;31m---------------------------------------------------------------------------\u001b[0m",
      "\u001b[1;31mFileNotFoundError\u001b[0m                         Traceback (most recent call last)",
      "\u001b[1;32m<ipython-input-10-f81de4b279c1>\u001b[0m in \u001b[0;36m<module>\u001b[1;34m()\u001b[0m\n\u001b[0;32m     13\u001b[0m     \u001b[0mprint\u001b[0m\u001b[1;33m(\u001b[0m\u001b[0mlog\u001b[0m\u001b[1;33m)\u001b[0m\u001b[1;33m\u001b[0m\u001b[0m\n\u001b[0;32m     14\u001b[0m     \u001b[1;32mreturn\u001b[0m \u001b[0mlog\u001b[0m\u001b[1;33m\u001b[0m\u001b[0m\n\u001b[1;32m---> 15\u001b[1;33m \u001b[0mlog\u001b[0m \u001b[1;33m=\u001b[0m \u001b[0mlog_training\u001b[0m\u001b[1;33m(\u001b[0m\u001b[0mdata\u001b[0m\u001b[1;33m,\u001b[0m \u001b[0mparameters\u001b[0m\u001b[1;33m,\u001b[0m \u001b[0maccuracy\u001b[0m\u001b[1;33m,\u001b[0m \u001b[0mprecision\u001b[0m\u001b[1;33m,\u001b[0m \u001b[0mrecall\u001b[0m\u001b[1;33m)\u001b[0m\u001b[1;33m\u001b[0m\u001b[0m\n\u001b[0m",
      "\u001b[1;32m<ipython-input-10-f81de4b279c1>\u001b[0m in \u001b[0;36mlog_training\u001b[1;34m(data, parameters, accuracy, precision, recall)\u001b[0m\n\u001b[0;32m      1\u001b[0m \u001b[1;32mdef\u001b[0m \u001b[0mlog_training\u001b[0m\u001b[1;33m(\u001b[0m\u001b[0mdata\u001b[0m\u001b[1;33m,\u001b[0m \u001b[0mparameters\u001b[0m\u001b[1;33m,\u001b[0m \u001b[0maccuracy\u001b[0m\u001b[1;33m,\u001b[0m \u001b[0mprecision\u001b[0m\u001b[1;33m,\u001b[0m \u001b[0mrecall\u001b[0m\u001b[1;33m)\u001b[0m\u001b[1;33m:\u001b[0m\u001b[1;33m\u001b[0m\u001b[0m\n\u001b[0;32m      2\u001b[0m     \u001b[1;32mfrom\u001b[0m \u001b[0mdatetime\u001b[0m \u001b[1;32mimport\u001b[0m \u001b[0mdatetime\u001b[0m\u001b[1;33m\u001b[0m\u001b[0m\n\u001b[1;32m----> 3\u001b[1;33m     \u001b[0mlog\u001b[0m \u001b[1;33m=\u001b[0m \u001b[0mpd\u001b[0m\u001b[1;33m.\u001b[0m\u001b[0mread_csv\u001b[0m\u001b[1;33m(\u001b[0m\u001b[1;34mr'.\\data\\training_log.csv'\u001b[0m\u001b[1;33m)\u001b[0m\u001b[1;33m\u001b[0m\u001b[0m\n\u001b[0m\u001b[0;32m      4\u001b[0m     \u001b[0mlength\u001b[0m \u001b[1;33m=\u001b[0m  \u001b[0mlen\u001b[0m\u001b[1;33m(\u001b[0m\u001b[0mlog\u001b[0m\u001b[1;33m)\u001b[0m\u001b[1;33m+\u001b[0m\u001b[1;36m1\u001b[0m\u001b[1;33m\u001b[0m\u001b[0m\n\u001b[0;32m      5\u001b[0m     \u001b[0mlog\u001b[0m\u001b[1;33m[\u001b[0m\u001b[1;34m'date_time'\u001b[0m\u001b[1;33m]\u001b[0m\u001b[1;33m[\u001b[0m\u001b[0mlength\u001b[0m\u001b[1;33m]\u001b[0m \u001b[1;33m=\u001b[0m \u001b[0mdatetime\u001b[0m\u001b[1;33m.\u001b[0m\u001b[0mnow\u001b[0m\u001b[1;33m(\u001b[0m\u001b[1;33m)\u001b[0m\u001b[1;33m\u001b[0m\u001b[0m\n",
      "\u001b[1;32m~\\Anaconda3\\lib\\site-packages\\pandas\\io\\parsers.py\u001b[0m in \u001b[0;36mparser_f\u001b[1;34m(filepath_or_buffer, sep, delimiter, header, names, index_col, usecols, squeeze, prefix, mangle_dupe_cols, dtype, engine, converters, true_values, false_values, skipinitialspace, skiprows, nrows, na_values, keep_default_na, na_filter, verbose, skip_blank_lines, parse_dates, infer_datetime_format, keep_date_col, date_parser, dayfirst, iterator, chunksize, compression, thousands, decimal, lineterminator, quotechar, quoting, escapechar, comment, encoding, dialect, tupleize_cols, error_bad_lines, warn_bad_lines, skipfooter, doublequote, delim_whitespace, low_memory, memory_map, float_precision)\u001b[0m\n\u001b[0;32m    676\u001b[0m                     skip_blank_lines=skip_blank_lines)\n\u001b[0;32m    677\u001b[0m \u001b[1;33m\u001b[0m\u001b[0m\n\u001b[1;32m--> 678\u001b[1;33m         \u001b[1;32mreturn\u001b[0m \u001b[0m_read\u001b[0m\u001b[1;33m(\u001b[0m\u001b[0mfilepath_or_buffer\u001b[0m\u001b[1;33m,\u001b[0m \u001b[0mkwds\u001b[0m\u001b[1;33m)\u001b[0m\u001b[1;33m\u001b[0m\u001b[0m\n\u001b[0m\u001b[0;32m    679\u001b[0m \u001b[1;33m\u001b[0m\u001b[0m\n\u001b[0;32m    680\u001b[0m     \u001b[0mparser_f\u001b[0m\u001b[1;33m.\u001b[0m\u001b[0m__name__\u001b[0m \u001b[1;33m=\u001b[0m \u001b[0mname\u001b[0m\u001b[1;33m\u001b[0m\u001b[0m\n",
      "\u001b[1;32m~\\Anaconda3\\lib\\site-packages\\pandas\\io\\parsers.py\u001b[0m in \u001b[0;36m_read\u001b[1;34m(filepath_or_buffer, kwds)\u001b[0m\n\u001b[0;32m    438\u001b[0m \u001b[1;33m\u001b[0m\u001b[0m\n\u001b[0;32m    439\u001b[0m     \u001b[1;31m# Create the parser.\u001b[0m\u001b[1;33m\u001b[0m\u001b[1;33m\u001b[0m\u001b[0m\n\u001b[1;32m--> 440\u001b[1;33m     \u001b[0mparser\u001b[0m \u001b[1;33m=\u001b[0m \u001b[0mTextFileReader\u001b[0m\u001b[1;33m(\u001b[0m\u001b[0mfilepath_or_buffer\u001b[0m\u001b[1;33m,\u001b[0m \u001b[1;33m**\u001b[0m\u001b[0mkwds\u001b[0m\u001b[1;33m)\u001b[0m\u001b[1;33m\u001b[0m\u001b[0m\n\u001b[0m\u001b[0;32m    441\u001b[0m \u001b[1;33m\u001b[0m\u001b[0m\n\u001b[0;32m    442\u001b[0m     \u001b[1;32mif\u001b[0m \u001b[0mchunksize\u001b[0m \u001b[1;32mor\u001b[0m \u001b[0miterator\u001b[0m\u001b[1;33m:\u001b[0m\u001b[1;33m\u001b[0m\u001b[0m\n",
      "\u001b[1;32m~\\Anaconda3\\lib\\site-packages\\pandas\\io\\parsers.py\u001b[0m in \u001b[0;36m__init__\u001b[1;34m(self, f, engine, **kwds)\u001b[0m\n\u001b[0;32m    785\u001b[0m             \u001b[0mself\u001b[0m\u001b[1;33m.\u001b[0m\u001b[0moptions\u001b[0m\u001b[1;33m[\u001b[0m\u001b[1;34m'has_index_names'\u001b[0m\u001b[1;33m]\u001b[0m \u001b[1;33m=\u001b[0m \u001b[0mkwds\u001b[0m\u001b[1;33m[\u001b[0m\u001b[1;34m'has_index_names'\u001b[0m\u001b[1;33m]\u001b[0m\u001b[1;33m\u001b[0m\u001b[0m\n\u001b[0;32m    786\u001b[0m \u001b[1;33m\u001b[0m\u001b[0m\n\u001b[1;32m--> 787\u001b[1;33m         \u001b[0mself\u001b[0m\u001b[1;33m.\u001b[0m\u001b[0m_make_engine\u001b[0m\u001b[1;33m(\u001b[0m\u001b[0mself\u001b[0m\u001b[1;33m.\u001b[0m\u001b[0mengine\u001b[0m\u001b[1;33m)\u001b[0m\u001b[1;33m\u001b[0m\u001b[0m\n\u001b[0m\u001b[0;32m    788\u001b[0m \u001b[1;33m\u001b[0m\u001b[0m\n\u001b[0;32m    789\u001b[0m     \u001b[1;32mdef\u001b[0m \u001b[0mclose\u001b[0m\u001b[1;33m(\u001b[0m\u001b[0mself\u001b[0m\u001b[1;33m)\u001b[0m\u001b[1;33m:\u001b[0m\u001b[1;33m\u001b[0m\u001b[0m\n",
      "\u001b[1;32m~\\Anaconda3\\lib\\site-packages\\pandas\\io\\parsers.py\u001b[0m in \u001b[0;36m_make_engine\u001b[1;34m(self, engine)\u001b[0m\n\u001b[0;32m   1012\u001b[0m     \u001b[1;32mdef\u001b[0m \u001b[0m_make_engine\u001b[0m\u001b[1;33m(\u001b[0m\u001b[0mself\u001b[0m\u001b[1;33m,\u001b[0m \u001b[0mengine\u001b[0m\u001b[1;33m=\u001b[0m\u001b[1;34m'c'\u001b[0m\u001b[1;33m)\u001b[0m\u001b[1;33m:\u001b[0m\u001b[1;33m\u001b[0m\u001b[0m\n\u001b[0;32m   1013\u001b[0m         \u001b[1;32mif\u001b[0m \u001b[0mengine\u001b[0m \u001b[1;33m==\u001b[0m \u001b[1;34m'c'\u001b[0m\u001b[1;33m:\u001b[0m\u001b[1;33m\u001b[0m\u001b[0m\n\u001b[1;32m-> 1014\u001b[1;33m             \u001b[0mself\u001b[0m\u001b[1;33m.\u001b[0m\u001b[0m_engine\u001b[0m \u001b[1;33m=\u001b[0m \u001b[0mCParserWrapper\u001b[0m\u001b[1;33m(\u001b[0m\u001b[0mself\u001b[0m\u001b[1;33m.\u001b[0m\u001b[0mf\u001b[0m\u001b[1;33m,\u001b[0m \u001b[1;33m**\u001b[0m\u001b[0mself\u001b[0m\u001b[1;33m.\u001b[0m\u001b[0moptions\u001b[0m\u001b[1;33m)\u001b[0m\u001b[1;33m\u001b[0m\u001b[0m\n\u001b[0m\u001b[0;32m   1015\u001b[0m         \u001b[1;32melse\u001b[0m\u001b[1;33m:\u001b[0m\u001b[1;33m\u001b[0m\u001b[0m\n\u001b[0;32m   1016\u001b[0m             \u001b[1;32mif\u001b[0m \u001b[0mengine\u001b[0m \u001b[1;33m==\u001b[0m \u001b[1;34m'python'\u001b[0m\u001b[1;33m:\u001b[0m\u001b[1;33m\u001b[0m\u001b[0m\n",
      "\u001b[1;32m~\\Anaconda3\\lib\\site-packages\\pandas\\io\\parsers.py\u001b[0m in \u001b[0;36m__init__\u001b[1;34m(self, src, **kwds)\u001b[0m\n\u001b[0;32m   1706\u001b[0m         \u001b[0mkwds\u001b[0m\u001b[1;33m[\u001b[0m\u001b[1;34m'usecols'\u001b[0m\u001b[1;33m]\u001b[0m \u001b[1;33m=\u001b[0m \u001b[0mself\u001b[0m\u001b[1;33m.\u001b[0m\u001b[0musecols\u001b[0m\u001b[1;33m\u001b[0m\u001b[0m\n\u001b[0;32m   1707\u001b[0m \u001b[1;33m\u001b[0m\u001b[0m\n\u001b[1;32m-> 1708\u001b[1;33m         \u001b[0mself\u001b[0m\u001b[1;33m.\u001b[0m\u001b[0m_reader\u001b[0m \u001b[1;33m=\u001b[0m \u001b[0mparsers\u001b[0m\u001b[1;33m.\u001b[0m\u001b[0mTextReader\u001b[0m\u001b[1;33m(\u001b[0m\u001b[0msrc\u001b[0m\u001b[1;33m,\u001b[0m \u001b[1;33m**\u001b[0m\u001b[0mkwds\u001b[0m\u001b[1;33m)\u001b[0m\u001b[1;33m\u001b[0m\u001b[0m\n\u001b[0m\u001b[0;32m   1709\u001b[0m \u001b[1;33m\u001b[0m\u001b[0m\n\u001b[0;32m   1710\u001b[0m         \u001b[0mpassed_names\u001b[0m \u001b[1;33m=\u001b[0m \u001b[0mself\u001b[0m\u001b[1;33m.\u001b[0m\u001b[0mnames\u001b[0m \u001b[1;32mis\u001b[0m \u001b[1;32mNone\u001b[0m\u001b[1;33m\u001b[0m\u001b[0m\n",
      "\u001b[1;32mpandas\\_libs\\parsers.pyx\u001b[0m in \u001b[0;36mpandas._libs.parsers.TextReader.__cinit__\u001b[1;34m()\u001b[0m\n",
      "\u001b[1;32mpandas\\_libs\\parsers.pyx\u001b[0m in \u001b[0;36mpandas._libs.parsers.TextReader._setup_parser_source\u001b[1;34m()\u001b[0m\n",
      "\u001b[1;31mFileNotFoundError\u001b[0m: File b'.\\\\data\\\\training_log.csv' does not exist"
     ]
    }
   ],
   "source": [
    "def log_training(data, parameters, accuracy, precision, recall):\n",
    "    from datetime import datetime\n",
    "    log = pd.read_csv(r'.\\data\\training_log.csv')\n",
    "    length =  len(log)+1\n",
    "    log['date_time'][length] = datetime.now()\n",
    "    log['parameters'][length] = parameters\n",
    "    log['columns'][length] = data.columns\n",
    "    log['columns_count'][length] = len(data.columns)\n",
    "    log['accuracy'][length] = accuracy\n",
    "    log['precision'][length] = precision\n",
    "    log['recall'][length] = recall\n",
    "    log.to_csv(r'.\\data\\training_log.csv', index=False)\n",
    "    print(log)\n",
    "    return log\n",
    "log = log_training(data, parameters, accuracy, precision, recall)"
   ]
  },
  {
   "cell_type": "code",
   "execution_count": null,
   "metadata": {},
   "outputs": [],
   "source": [
    "from datetime import datetime\n",
    "datetime.today()"
   ]
  },
  {
   "cell_type": "code",
   "execution_count": null,
   "metadata": {},
   "outputs": [],
   "source": []
  }
 ],
 "metadata": {
  "kernelspec": {
   "display_name": "Python 3",
   "language": "python",
   "name": "python3"
  },
  "language_info": {
   "codemirror_mode": {
    "name": "ipython",
    "version": 3
   },
   "file_extension": ".py",
   "mimetype": "text/x-python",
   "name": "python",
   "nbconvert_exporter": "python",
   "pygments_lexer": "ipython3",
   "version": "3.5.6"
  }
 },
 "nbformat": 4,
 "nbformat_minor": 2
}
