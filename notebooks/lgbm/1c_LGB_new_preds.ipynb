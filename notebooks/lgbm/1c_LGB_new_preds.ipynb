{
 "cells": [
  {
   "cell_type": "code",
   "execution_count": 1,
   "metadata": {},
   "outputs": [],
   "source": [
    "import random\n",
    "import numpy as np\n",
    "import pandas as pd\n",
    "import os\n",
    "from sklearn import metrics\n",
    "import lightgbm as lgb\n",
    "import pickle\n",
    "\n",
    "os.chdir(r'C:\\Users\\User\\Documents\\Data_Science_Projects\\santander-customer-prediction')\n"
   ]
  },
  {
   "cell_type": "code",
   "execution_count": 2,
   "metadata": {},
   "outputs": [],
   "source": [
    "data = pd.read_csv(r'.\\data\\testFinal.csv')"
   ]
  },
  {
   "cell_type": "code",
   "execution_count": 3,
   "metadata": {},
   "outputs": [],
   "source": [
    "features = pd.read_csv(r'.\\data\\features.csv')\n",
    "feature_imp = features[features['0']>0]\n",
    "feature_selected = np.array(feature_imp['1'])\n",
    "feature_selected = np.append(feature_selected, 'ID_code')\n",
    "data = data[feature_selected]"
   ]
  },
  {
   "cell_type": "code",
   "execution_count": 4,
   "metadata": {},
   "outputs": [],
   "source": [
    "## load model\n",
    "model = pickle.load(open(r'.\\models\\lightGBMmodel.sav', 'rb'))\n",
    "\n",
    "def predict_lgb(data):\n",
    "    ids = data['ID_code']\n",
    "    data = data.drop(['ID_code'], axis=1)\n",
    "    y_pred = model.predict(data)\n",
    "    y_pred = pd.DataFrame(y_pred)\n",
    "    y_pred['ID_code'] = ids\n",
    "    return y_pred\n",
    "\n",
    "y_pred = predict_lgb(data)"
   ]
  },
  {
   "cell_type": "code",
   "execution_count": 5,
   "metadata": {},
   "outputs": [],
   "source": [
    "y_pred.to_csv(r'.\\data\\output\\lightGBM_predictions.csv', index=False)"
   ]
  },
  {
   "cell_type": "code",
   "execution_count": 6,
   "metadata": {},
   "outputs": [
    {
     "data": {
      "text/plain": [
       "200000"
      ]
     },
     "execution_count": 6,
     "metadata": {},
     "output_type": "execute_result"
    }
   ],
   "source": [
    "len(y_pred[y_pred[0]>=.5])"
   ]
  },
  {
   "cell_type": "code",
   "execution_count": 7,
   "metadata": {},
   "outputs": [
    {
     "data": {
      "text/html": [
       "<div>\n",
       "<style scoped>\n",
       "    .dataframe tbody tr th:only-of-type {\n",
       "        vertical-align: middle;\n",
       "    }\n",
       "\n",
       "    .dataframe tbody tr th {\n",
       "        vertical-align: top;\n",
       "    }\n",
       "\n",
       "    .dataframe thead th {\n",
       "        text-align: right;\n",
       "    }\n",
       "</style>\n",
       "<table border=\"1\" class=\"dataframe\">\n",
       "  <thead>\n",
       "    <tr style=\"text-align: right;\">\n",
       "      <th></th>\n",
       "      <th>0</th>\n",
       "      <th>ID_code</th>\n",
       "    </tr>\n",
       "  </thead>\n",
       "  <tbody>\n",
       "    <tr>\n",
       "      <th>0</th>\n",
       "      <td>0.999991</td>\n",
       "      <td>test_0</td>\n",
       "    </tr>\n",
       "    <tr>\n",
       "      <th>1</th>\n",
       "      <td>0.999990</td>\n",
       "      <td>test_1</td>\n",
       "    </tr>\n",
       "    <tr>\n",
       "      <th>2</th>\n",
       "      <td>0.999990</td>\n",
       "      <td>test_2</td>\n",
       "    </tr>\n",
       "    <tr>\n",
       "      <th>3</th>\n",
       "      <td>0.999980</td>\n",
       "      <td>test_3</td>\n",
       "    </tr>\n",
       "    <tr>\n",
       "      <th>4</th>\n",
       "      <td>0.999982</td>\n",
       "      <td>test_4</td>\n",
       "    </tr>\n",
       "  </tbody>\n",
       "</table>\n",
       "</div>"
      ],
      "text/plain": [
       "          0 ID_code\n",
       "0  0.999991  test_0\n",
       "1  0.999990  test_1\n",
       "2  0.999990  test_2\n",
       "3  0.999980  test_3\n",
       "4  0.999982  test_4"
      ]
     },
     "execution_count": 7,
     "metadata": {},
     "output_type": "execute_result"
    }
   ],
   "source": [
    "y_pred.head()"
   ]
  },
  {
   "cell_type": "code",
   "execution_count": 8,
   "metadata": {},
   "outputs": [
    {
     "data": {
      "text/plain": [
       "Index(['var_136', 'var_16', 'var_160', 'var_185', 'var_27', 'var_42', 'var_47',\n",
       "       'var_96', 'max_rows', 'mean_rows',\n",
       "       ...\n",
       "       'var_115', 'var_13', 'var_166', 'var_21', 'var_22', 'var_34', 'var_6',\n",
       "       'var_53', 'var_165', 'ID_code'],\n",
       "      dtype='object', length=191)"
      ]
     },
     "execution_count": 8,
     "metadata": {},
     "output_type": "execute_result"
    }
   ],
   "source": [
    "data.columns"
   ]
  },
  {
   "cell_type": "code",
   "execution_count": null,
   "metadata": {},
   "outputs": [],
   "source": []
  }
 ],
 "metadata": {
  "kernelspec": {
   "display_name": "Python 3",
   "language": "python",
   "name": "python3"
  },
  "language_info": {
   "codemirror_mode": {
    "name": "ipython",
    "version": 3
   },
   "file_extension": ".py",
   "mimetype": "text/x-python",
   "name": "python",
   "nbconvert_exporter": "python",
   "pygments_lexer": "ipython3",
   "version": "3.5.6"
  }
 },
 "nbformat": 4,
 "nbformat_minor": 2
}
